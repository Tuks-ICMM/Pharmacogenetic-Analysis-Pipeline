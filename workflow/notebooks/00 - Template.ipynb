{
 "cells": [
  {
   "cell_type": "markdown",
   "metadata": {},
   "source": [
    "%%latex\n",
    "\\tableofcontents"
   ]
  },
  {
   "cell_type": "markdown",
   "metadata": {},
   "source": [
    "# Template"
   ]
  },
  {
   "cell_type": "code",
   "execution_count": 3,
   "metadata": {},
   "outputs": [
    {
     "data": {
      "text/plain": [
       "'c:\\\\Users\\\\frdgr\\\\Documents\\\\UP\\\\Pharmacogenetic-Analysis-Pipeline\\\\workflow\\\\notebooks'"
      ]
     },
     "execution_count": 3,
     "metadata": {},
     "output_type": "execute_result"
    }
   ],
   "source": [
    "from os.path import join\n",
    "from pathlib import Path\n",
    "from pandas import read_csv\n",
    "from json import load\n",
    "from os import getcwd\n",
    "getcwd()"
   ]
  },
  {
   "cell_type": "code",
   "execution_count": 2,
   "metadata": {},
   "outputs": [
    {
     "ename": "FileNotFoundError",
     "evalue": "[Errno 2] No such file or directory: 'config\\\\manifest.json'",
     "output_type": "error",
     "traceback": [
      "\u001b[1;31m---------------------------------------------------------------------------\u001b[0m",
      "\u001b[1;31mFileNotFoundError\u001b[0m                         Traceback (most recent call last)",
      "Cell \u001b[1;32mIn[2], line 1\u001b[0m\n\u001b[1;32m----> 1\u001b[0m \u001b[38;5;28;01mwith\u001b[39;00m \u001b[38;5;28;43mopen\u001b[39;49m\u001b[43m(\u001b[49m\u001b[43mjoin\u001b[49m\u001b[43m(\u001b[49m\u001b[38;5;124;43m\"\u001b[39;49m\u001b[38;5;124;43mconfig\u001b[39;49m\u001b[38;5;124;43m\"\u001b[39;49m\u001b[43m,\u001b[49m\u001b[43m \u001b[49m\u001b[38;5;124;43m\"\u001b[39;49m\u001b[38;5;124;43mmanifest.json\u001b[39;49m\u001b[38;5;124;43m\"\u001b[39;49m\u001b[43m)\u001b[49m\u001b[43m,\u001b[49m\u001b[43m \u001b[49m\u001b[38;5;124;43m'\u001b[39;49m\u001b[38;5;124;43mr\u001b[39;49m\u001b[38;5;124;43m'\u001b[39;49m\u001b[43m)\u001b[49m \u001b[38;5;28;01mas\u001b[39;00m config:\n\u001b[0;32m      2\u001b[0m     config \u001b[38;5;241m=\u001b[39m load(config)\n\u001b[0;32m      4\u001b[0m path \u001b[38;5;241m=\u001b[39m join(\u001b[38;5;241m*\u001b[39mconfig[\u001b[38;5;124m\"\u001b[39m\u001b[38;5;124moutput\u001b[39m\u001b[38;5;124m\"\u001b[39m])\n",
      "File \u001b[1;32m~\\AppData\\Local\\Packages\\PythonSoftwareFoundation.Python.3.12_qbz5n2kfra8p0\\LocalCache\\local-packages\\Python312\\site-packages\\IPython\\core\\interactiveshell.py:324\u001b[0m, in \u001b[0;36m_modified_open\u001b[1;34m(file, *args, **kwargs)\u001b[0m\n\u001b[0;32m    317\u001b[0m \u001b[38;5;28;01mif\u001b[39;00m file \u001b[38;5;129;01min\u001b[39;00m {\u001b[38;5;241m0\u001b[39m, \u001b[38;5;241m1\u001b[39m, \u001b[38;5;241m2\u001b[39m}:\n\u001b[0;32m    318\u001b[0m     \u001b[38;5;28;01mraise\u001b[39;00m \u001b[38;5;167;01mValueError\u001b[39;00m(\n\u001b[0;32m    319\u001b[0m         \u001b[38;5;124mf\u001b[39m\u001b[38;5;124m\"\u001b[39m\u001b[38;5;124mIPython won\u001b[39m\u001b[38;5;124m'\u001b[39m\u001b[38;5;124mt let you open fd=\u001b[39m\u001b[38;5;132;01m{\u001b[39;00mfile\u001b[38;5;132;01m}\u001b[39;00m\u001b[38;5;124m by default \u001b[39m\u001b[38;5;124m\"\u001b[39m\n\u001b[0;32m    320\u001b[0m         \u001b[38;5;124m\"\u001b[39m\u001b[38;5;124mas it is likely to crash IPython. If you know what you are doing, \u001b[39m\u001b[38;5;124m\"\u001b[39m\n\u001b[0;32m    321\u001b[0m         \u001b[38;5;124m\"\u001b[39m\u001b[38;5;124myou can use builtins\u001b[39m\u001b[38;5;124m'\u001b[39m\u001b[38;5;124m open.\u001b[39m\u001b[38;5;124m\"\u001b[39m\n\u001b[0;32m    322\u001b[0m     )\n\u001b[1;32m--> 324\u001b[0m \u001b[38;5;28;01mreturn\u001b[39;00m \u001b[43mio_open\u001b[49m\u001b[43m(\u001b[49m\u001b[43mfile\u001b[49m\u001b[43m,\u001b[49m\u001b[43m \u001b[49m\u001b[38;5;241;43m*\u001b[39;49m\u001b[43margs\u001b[49m\u001b[43m,\u001b[49m\u001b[43m \u001b[49m\u001b[38;5;241;43m*\u001b[39;49m\u001b[38;5;241;43m*\u001b[39;49m\u001b[43mkwargs\u001b[49m\u001b[43m)\u001b[49m\n",
      "\u001b[1;31mFileNotFoundError\u001b[0m: [Errno 2] No such file or directory: 'config\\\\manifest.json'"
     ]
    }
   ],
   "source": [
    "with open(join(\"config\", \"manifest.json\"), 'r') as config:\n",
    "    config = load(config)\n",
    "\n",
    "path = join(*config[\"output\"])"
   ]
  },
  {
   "cell_type": "code",
   "execution_count": null,
   "metadata": {},
   "outputs": [],
   "source": [
    "# [ASSIGN] the sample metadata used to conduct the analysis to a reference variable\n",
    "SAMPLES = read_csv(join(\"input\", \"samples.csv\"))\n",
    "\n",
    "# [ASSIGN] the genomic location metadata used to conduct the analysis to a reference variable\n",
    "LOCATIONS = read_csv(join(\"input\", \"locations.csv\"))\n",
    "\n",
    "# [ASSIGN] the dataset metadata used to conduct the analysis to a reference variable\n",
    "DATASETS = read_csv(join(\"input\", \"datasets.csv\"))"
   ]
  },
  {
   "cell_type": "code",
   "execution_count": null,
   "metadata": {},
   "outputs": [
    {
     "ename": "NameError",
     "evalue": "name 'SAMPLES' is not defined",
     "output_type": "error",
     "traceback": [
      "\u001b[0;31m---------------------------------------------------------------------------\u001b[0m",
      "\u001b[0;31mNameError\u001b[0m                                 Traceback (most recent call last)",
      "Cell \u001b[0;32mIn[1], line 2\u001b[0m\n\u001b[1;32m      1\u001b[0m \u001b[38;5;66;03m# [ASSIGN] all unique populations found in our sample annotations\u001b[39;00m\n\u001b[0;32m----> 2\u001b[0m POPULATIONS_TO_COMPARE \u001b[38;5;241m=\u001b[39m \u001b[43mSAMPLES\u001b[49m[\u001b[38;5;124m\"\u001b[39m\u001b[38;5;124msuper-population\u001b[39m\u001b[38;5;124m\"\u001b[39m]\u001b[38;5;241m.\u001b[39munique()\u001b[38;5;241m.\u001b[39mtolist()\n",
      "\u001b[0;31mNameError\u001b[0m: name 'SAMPLES' is not defined"
     ]
    }
   ],
   "source": [
    "# [ASSIGN] all unique populations found in our sample annotations\n",
    "POPULATIONS_TO_COMPARE = SAMPLES[\"super-population\"].unique().tolist()"
   ]
  },
  {
   "cell_type": "code",
   "execution_count": null,
   "metadata": {},
   "outputs": [],
   "source": [
    "# [ASSIGN] the columns that form the multiindex\n",
    "MULTIINDEX = [\"CHROM\", \"POS\", \"REF\", \"ALT\"]"
   ]
  },
  {
   "cell_type": "code",
   "execution_count": null,
   "metadata": {},
   "outputs": [],
   "source": [
    "DATA = dict()\n",
    "\n",
    "_total = 0\n",
    "\n",
    "# [FOR] each gene in our list of gene regions included in this analysis...\n",
    "for gene in LOCATIONS[\"location_name\"].unique().tolist():\n",
    "\n",
    "    # [ASSIGN] our data to a key within the DATA dictionary\n",
    "    DATA[gene] = read_csv(\n",
    "        join(\n",
    "            \"/\",\n",
    "            \"mnt\",\n",
    "            \"ICMM_HDD_12TB\",\n",
    "            \"Results_25SEP2024\",\n",
    "            \"consolidated_reports\",\n",
    "            f\"super-population_{gene}.csv\",\n",
    "        ),\n",
    "        sep=\"\\t\"\n",
    "    )\n",
    "    print(f\"Record count | {gene} : {DATA[gene].shape[0]}\")\n",
    "    _total += DATA[gene].shape[0]\n",
    "print(f\"Total record count | {gene} : {_total}\")\n",
    "    "
   ]
  },
  {
   "cell_type": "code",
   "execution_count": null,
   "metadata": {},
   "outputs": [],
   "source": []
  },
  {
   "cell_type": "code",
   "execution_count": null,
   "metadata": {},
   "outputs": [],
   "source": [
    "# [CHECK] if directory exists, and create if it does not\n",
    "Path(join(path, \"Graphs\", \"01\")).mkdir(exist_ok=True, parents = True)"
   ]
  },
  {
   "cell_type": "code",
   "execution_count": null,
   "metadata": {},
   "outputs": [],
   "source": [
    "for gene in LOCATIONS[\"location_name\"].unique().tolist():\n",
    "    for graph in PLOT[gene].keys(): \n",
    "        PLOT[gene][graph].write_image(join(path, \"Graphs\", \"01\", f\"{gene}_{graph}.jpeg\"))\n",
    "\n",
    "# for gene in LOCATIONS[\"location_name\"].unique().tolist():\n",
    "#     PLOT[gene][\"Variant Filters\"].write_image(join(path, \"Graphs\", \"01\", \"allele_abundance.jpeg\"))"
   ]
  }
 ],
 "metadata": {
  "kernelspec": {
   "display_name": "Python 3",
   "language": "python",
   "name": "python3"
  },
  "language_info": {
   "codemirror_mode": {
    "name": "ipython",
    "version": 3
   },
   "file_extension": ".py",
   "mimetype": "text/x-python",
   "name": "python",
   "nbconvert_exporter": "python",
   "pygments_lexer": "ipython3",
   "version": "3.12.6"
  }
 },
 "nbformat": 4,
 "nbformat_minor": 2
}
