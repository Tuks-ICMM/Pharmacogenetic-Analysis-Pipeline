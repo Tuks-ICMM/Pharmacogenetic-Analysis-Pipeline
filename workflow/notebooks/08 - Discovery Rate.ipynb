{
 "cells": [
  {
   "cell_type": "markdown",
   "metadata": {},
   "source": [
    "%%latex\n",
    "\\tableofcontents"
   ]
  },
  {
   "cell_type": "markdown",
   "metadata": {},
   "source": [
    "# Discovery Rate\n",
    "\n",
    "This notebook aims to visualize the discovery rate of variants in each population. This is born from the knowledge that our dataset has been enriched for specific population groups, which does need to be investigated as a possible source of bias."
   ]
  },
  {
   "cell_type": "markdown",
   "metadata": {},
   "source": [
    "%matplotlib inline"
   ]
  },
  {
   "cell_type": "code",
   "execution_count": 5,
   "metadata": {},
   "outputs": [],
   "source": [
    "from os.path import join\n",
    "from pandas import read_csv\n",
    "from json import load"
   ]
  },
  {
   "cell_type": "code",
   "execution_count": 2,
   "metadata": {},
   "outputs": [],
   "source": [
    "SAMPLES = read_csv(join(\"input\", \"samples.csv\"))\n",
    "LOCATIONS = read_csv(join(\"input\", \"locations.csv\"))\n",
    "DATASETS = read_csv(join(\"input\", \"datasets.csv\"))\n",
    "POPULATIONS_TO_COMPARE = SAMPLES[\"super-population\"].unique().tolist()\n",
    "MULTIINDEX = [\"CHROM\", \"POS\", \"ID\", \"REF\", \"ALT\"]"
   ]
  },
  {
   "cell_type": "code",
   "execution_count": 6,
   "metadata": {},
   "outputs": [],
   "source": [
    "with open(join(\"config\", \"manifest.json\"), 'r') as config:\n",
    "    config = load(config)\n",
    "\n",
    "path = join(*config[\"output\"])"
   ]
  },
  {
   "cell_type": "code",
   "execution_count": null,
   "metadata": {},
   "outputs": [],
   "source": []
  }
 ],
 "metadata": {
  "kernelspec": {
   "display_name": "GRAEME_Graphing",
   "language": "python",
   "name": "python3"
  },
  "language_info": {
   "codemirror_mode": {
    "name": "ipython",
    "version": 3
   },
   "file_extension": ".py",
   "mimetype": "text/x-python",
   "name": "python",
   "nbconvert_exporter": "python",
   "pygments_lexer": "ipython3",
   "version": "3.12.6"
  }
 },
 "nbformat": 4,
 "nbformat_minor": 2
}
